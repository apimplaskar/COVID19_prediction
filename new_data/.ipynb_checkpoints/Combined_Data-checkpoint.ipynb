{
 "cells": [
  {
   "cell_type": "code",
   "execution_count": 32,
   "metadata": {},
   "outputs": [],
   "source": [
    "#Reference https://www.freecodecamp.org/news/how-to-combine-multiple-csv-files-with-8-lines-of-code-265183e0854/\n",
    "\n",
    "import os\n",
    "import glob\n",
    "import pandas as pd\n",
    "os.chdir(\"/Users/ryanwakefield/Desktop/CS 145/COVID19_prediction/new_data\")"
   ]
  },
  {
   "cell_type": "code",
   "execution_count": 33,
   "metadata": {},
   "outputs": [],
   "source": [
    "extension = 'csv'\n",
    "all_filenames = [i for i in glob.glob('*.{}'.format(extension))]"
   ]
  },
  {
   "cell_type": "code",
   "execution_count": 34,
   "metadata": {
    "scrolled": true
   },
   "outputs": [],
   "source": [
    "#combine all files in the list\n",
    "os.remove(\"/Users/ryanwakefield/Desktop/CS 145/COVID19_prediction/new_data/new_data.csv\")\n",
    "\n",
    "all_filenames.sort()\n",
    "combined_csv = pd.read_csv(all_filenames[0])\n",
    "combined_csv.insert(1,\"Date\",[all_filenames[0][:-4] for _ in range(58)])\n",
    "\n",
    "for file in all_filenames[1:]:\n",
    "    new_file = pd.read_csv(file)\n",
    "    new_file.insert(1,\"Date\",[file[:-4] for _ in range(58)])\n",
    "    combined_csv = pd.concat([combined_csv,new_file])\n",
    "    \n",
    "removed_provinces = ['American Samoa','Diamond Princess','District of Columbia','Grand Princess','Guam',\n",
    "                    'Northern Mariana Islands','Puerto Rico','Virgin Islands']\n",
    "\n",
    "for province in removed_provinces:\n",
    "    combined_csv.drop(combined_csv.index[combined_csv['Province_State']== province], inplace=True)\n",
    "\n",
    "combined_csv.to_csv( \"new_data.csv\", index=False, encoding='utf-8-sig')"
   ]
  },
  {
   "cell_type": "code",
   "execution_count": null,
   "metadata": {},
   "outputs": [],
   "source": []
  },
  {
   "cell_type": "code",
   "execution_count": 26,
   "metadata": {},
   "outputs": [
    {
     "data": {
      "text/plain": [
       "<bound method Series.unique of 0      11-23-2020\n",
       "1      11-23-2020\n",
       "2      11-23-2020\n",
       "3      11-23-2020\n",
       "4      11-23-2020\n",
       "          ...    \n",
       "645    12-05-2020\n",
       "646    12-05-2020\n",
       "647    12-05-2020\n",
       "648    12-05-2020\n",
       "649    12-05-2020\n",
       "Name: Date, Length: 650, dtype: object>"
      ]
     },
     "execution_count": 26,
     "metadata": {},
     "output_type": "execute_result"
    }
   ],
   "source": [
    "pd.read_csv('new_data.csv')['Date'].unique"
   ]
  },
  {
   "cell_type": "code",
   "execution_count": null,
   "metadata": {},
   "outputs": [],
   "source": []
  }
 ],
 "metadata": {
  "kernelspec": {
   "display_name": "Python 3",
   "language": "python",
   "name": "python3"
  },
  "language_info": {
   "codemirror_mode": {
    "name": "ipython",
    "version": 3
   },
   "file_extension": ".py",
   "mimetype": "text/x-python",
   "name": "python",
   "nbconvert_exporter": "python",
   "pygments_lexer": "ipython3",
   "version": "3.8.3"
  }
 },
 "nbformat": 4,
 "nbformat_minor": 4
}
