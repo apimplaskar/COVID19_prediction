{
 "cells": [
  {
   "cell_type": "code",
   "execution_count": 23,
   "metadata": {},
   "outputs": [],
   "source": [
    "# Packages\n",
    "import numpy as np\n",
    "import sklearn \n",
    "import pandas as pd\n",
    "import matplotlib.pyplot as plt\n",
    "import scipy\n",
    "from scipy.integrate import odeint\n",
    "\n",
    "from utility_code.utility import utils"
   ]
  },
  {
   "cell_type": "code",
   "execution_count": 24,
   "metadata": {},
   "outputs": [],
   "source": [
    "#import csvs\n",
    "train = pd.read_csv(\"ucla2020-cs145-covid19-prediction/train.csv\")\n",
    "test = pd.read_csv(\"ucla2020-cs145-covid19-prediction/test.csv\")\n",
    "graph = pd.read_csv(\"ucla2020-cs145-covid19-prediction/graph.csv\")"
   ]
  },
  {
   "cell_type": "markdown",
   "metadata": {},
   "source": [
    "## BASIC S-I-R-D Model"
   ]
  },
  {
   "cell_type": "code",
   "execution_count": 25,
   "metadata": {},
   "outputs": [],
   "source": [
    "# Total population, N.\n",
    "N = 1000\n",
    "# Initial number of infected and recovered individuals, I0 and R0.\n",
    "I0, R0, D0 = 1, 0, 0\n",
    "# Everyone else, S0, is susceptible to infection initially.\n",
    "S0 = N - I0 - R0 - D0\n",
    "# Contact rate, beta, and mean recovery rate, gamma, (in 1/days).\n",
    "# delta is death rate\n",
    "beta, gamma = 0.4, 1./10 \n",
    "delta = 0.2\n",
    "# A grid of time points (in days)\n",
    "t = np.linspace(0, 160, 160)"
   ]
  },
  {
   "cell_type": "code",
   "execution_count": 26,
   "metadata": {},
   "outputs": [],
   "source": [
    "def deriv(y, t, N, beta, gamma, delta):\n",
    "    S, I, R, D = y\n",
    "    dSdt = -beta * S * I / N\n",
    "    dIdt = beta * S * I / N - (gamma+delta) * I \n",
    "    dRdt = gamma * I\n",
    "    dDdt = delta * I\n",
    "    return dSdt, dIdt, dRdt, dDdt"
   ]
  },
  {
   "cell_type": "code",
   "execution_count": 27,
   "metadata": {},
   "outputs": [],
   "source": [
    "# Initial conditions vector\n",
    "y0 = S0, I0, R0, D0\n",
    "# Integrate the SIR equations over the time grid, t.\n",
    "ret = odeint(deriv, y0, t, args=(N, beta, gamma, delta))\n",
    "S, I, R, D = ret.T"
   ]
  },
  {
   "cell_type": "code",
   "execution_count": 28,
   "metadata": {},
   "outputs": [
    {
     "data": {
      "image/png": "[encoded data removed]",
      "text/plain": [
       "<Figure size 432x288 with 1 Axes>"
      ]
     },
     "metadata": {},
     "output_type": "display_data"
    }
   ],
   "source": [
    "# Plot the data on three separate curves for S(t), I(t) and R(t)\n",
    "fig = plt.figure(facecolor='w')\n",
    "ax = fig.add_subplot(111, facecolor='#dddddd', axisbelow=True)\n",
    "ax.plot(t, S/1000, 'b', alpha=0.5, lw=2, label='Susceptible')\n",
    "ax.plot(t, I/1000, 'r', alpha=0.5, lw=2, label='Infected')\n",
    "ax.plot(t, R/1000, 'g', alpha=0.5, lw=2, label='Recovered with immunity')\n",
    "ax.plot(t, D/1000, 'y', alpha=0.5, lw=2, label='Deceased')\n",
    "ax.set_xlabel('Time /days')\n",
    "ax.set_ylabel('Number (1000s)')\n",
    "ax.set_ylim(0,1.2)\n",
    "ax.yaxis.set_tick_params(length=0)\n",
    "ax.xaxis.set_tick_params(length=0)\n",
    "ax.grid(b=True, which='major', c='w', lw=2, ls='-')\n",
    "legend = ax.legend()\n",
    "legend.get_frame().set_alpha(0.5)\n",
    "for spine in ('top', 'right', 'bottom', 'left'):\n",
    "    ax.spines[spine].set_visible(False)\n",
    "plt.show()"
   ]
  },
  {
   "cell_type": "markdown",
   "metadata": {},
   "source": [
    "## Now to see if we can handle changing values for params"
   ]
  },
  {
   "cell_type": "code",
   "execution_count": 29,
   "metadata": {},
   "outputs": [
    {
     "name": "stdout",
     "output_type": "stream",
     "text": [
      "y0 (900, 100, 0, 0)\n",
      "beta, gamma, delta 0.2 0.1 0.2\n",
      "beta, gamma, delta 0.3 0.1 0.1\n",
      "beta, gamma, delta 0.4 0.1 0.1\n",
      "beta, gamma, delta 0.2 0.1 0.1\n",
      "beta, gamma, delta 0.1 0.1 0.15\n"
     ]
    }
   ],
   "source": [
    "betas = [0.2, 0.3, 0.4, 0.2, 0.1]\n",
    "gammas = [0.1, 0.1, 0.1, 0.1, 0.1]\n",
    "deltas = [0.2, 0.1, 0.1, 0.1, 0.15]\n",
    "\n",
    "# Initial conditions vector\n",
    "# Total population, N.\n",
    "N = 1000\n",
    "# Initial number of infected and recovered individuals, I0 and R0.\n",
    "I0, R0, D0 = 100, 0, 0\n",
    "# Everyone else, S0, is susceptible to infection initially\n",
    "S0 = N - I0 - R0 - D0\n",
    "window = 5\n",
    "t = np.linspace(0, window, window)\n",
    "y0 = S0, I0, R0, D0\n",
    "print('y0', y0)\n",
    "\n",
    "S_pred = [S0]\n",
    "I_pred = [I0]\n",
    "R_pred = [R0]\n",
    "D_pred = [D0]\n",
    "\n",
    "for i in range(len(betas)):\n",
    "    beta = betas[i]\n",
    "    gamma = gammas[i]\n",
    "    delta = deltas[i]\n",
    "    print('beta, gamma, delta', beta, gamma, delta)\n",
    "    \n",
    "    # Integrate the SIR equations over the time grid, t.\n",
    "    ret = odeint(deriv, y0, t, args=(N, beta, gamma, delta))\n",
    "    S, I, R, D = ret.T\n",
    "    y0 = S[len(S)-1], I[len(I)-1], R[len(R)-1], D[len(D)-1]\n",
    "    S_pred.extend(S[1:len(S)-1].tolist())\n",
    "    I_pred.extend(I[1:len(I)-1].tolist())\n",
    "    R_pred.extend(R[1:len(R)-1].tolist())\n",
    "    D_pred.extend(D[1:len(D)-1].tolist())\n",
    "    "
   ]
  },
  {
   "cell_type": "code",
   "execution_count": 30,
   "metadata": {},
   "outputs": [
    {
     "data": {
      "text/plain": [
       "[0,\n",
       " 1.25,\n",
       " 2.5,\n",
       " 3.75,\n",
       " 6.25,\n",
       " 7.5,\n",
       " 8.75,\n",
       " 11.25,\n",
       " 12.5,\n",
       " 13.75,\n",
       " 16.25,\n",
       " 17.5,\n",
       " 18.75,\n",
       " 21.25,\n",
       " 22.5,\n",
       " 23.75]"
      ]
     },
     "execution_count": 30,
     "metadata": {},
     "output_type": "execute_result"
    }
   ],
   "source": [
    "times = [0]\n",
    "for i in range(len(betas)):\n",
    "    times.extend((t[1:len(t)-1] + i*window).tolist())\n",
    "times"
   ]
  },
  {
   "cell_type": "code",
   "execution_count": 31,
   "metadata": {},
   "outputs": [
    {
     "data": {
      "image/png": "[encoded data removed]",
      "text/plain": [
       "<Figure size 432x288 with 1 Axes>"
      ]
     },
     "metadata": {},
     "output_type": "display_data"
    }
   ],
   "source": [
    "fig = plt.figure(facecolor='w')\n",
    "ax = fig.add_subplot(111, facecolor='#dddddd', axisbelow=True)\n",
    "ax.plot(times, S_pred, 'b', alpha=0.5, lw=2, label='Susceptible')\n",
    "ax.plot(times, I_pred, 'r', alpha=0.5, lw=2, label='Infected')\n",
    "ax.plot(times, R_pred, 'g', alpha=0.5, lw=2, label='Recovered with immunity')\n",
    "ax.plot(times, D_pred, 'y', alpha=0.5, lw=2, label='Deceased')\n",
    "ax.set_xlabel('Time /days')\n",
    "ax.set_ylabel('Number (1000s)')\n",
    "ax.yaxis.set_tick_params(length=0)\n",
    "ax.xaxis.set_tick_params(length=0)\n",
    "ax.grid(b=True, which='major', c='w', lw=2, ls='-')\n",
    "legend = ax.legend()\n",
    "legend.get_frame().set_alpha(0.5)\n",
    "for spine in ('top', 'right', 'bottom', 'left'):\n",
    "    ax.spines[spine].set_visible(False)\n",
    "plt.show()"
   ]
  },
  {
   "cell_type": "markdown",
   "metadata": {},
   "source": [
    "## What can we get from the data we have"
   ]
  },
  {
   "cell_type": "code",
   "execution_count": 32,
   "metadata": {},
   "outputs": [],
   "source": [
    "# Let's check the last 5 days\n",
    "window = 5\n",
    "num_states = 50\n",
    "validation = train.tail(window*num_states)\n",
    "validation_ala = validation.iloc[::num_states,:]\n",
    "forparams = train.tail(window*2*num_states).head(window*num_states)\n",
    "forparams_ala = forparams.iloc[::num_states,:]"
   ]
  },
  {
   "cell_type": "code",
   "execution_count": 33,
   "metadata": {},
   "outputs": [],
   "source": [
    "beta = forparams_ala['Active'].mean()/4.9e6\n",
    "gamma = forparams_ala['Recovered'].divide(forparams_ala['Confirmed']).mean()/100\n",
    "delta = forparams_ala['Mortality_Rate'].mean()/10000\n",
    "\n",
    "# Initial number of infected and recovered individuals, I0 and R0.\n",
    "I0, R0, D0 = forparams_ala.iloc[window-1,6], forparams_ala.iloc[window-1, 5], forparams_ala.iloc[window-1,4]\n",
    "# Total population, N.\n",
    "N = 4.9e6 # from internet\n",
    "# Everyone else, S0, is susceptible to infection initially.\n",
    "S0 = N - I0 - R0 - D0\n",
    "# Contact rate, beta, and mean recovery rate, gamma, (in 1/days).\n",
    "# delta is death rate\n",
    "\n",
    "# A grid of time points (in days)\n",
    "t = np.linspace(0, window, window)\n",
    "\n",
    "# Initial conditions vector\n",
    "y0 = S0, I0, R0, D0\n",
    "# Integrate the SIR equations over the time grid, t.\n",
    "ret = odeint(deriv, y0, t, args=(N, beta, gamma, delta))\n",
    "S, I, R, D = ret.T"
   ]
  },
  {
   "cell_type": "code",
   "execution_count": 34,
   "metadata": {},
   "outputs": [
    {
     "data": {
      "text/plain": [
       "0.003890449763988141"
      ]
     },
     "execution_count": 34,
     "metadata": {},
     "output_type": "execute_result"
    }
   ],
   "source": [
    "gamma"
   ]
  },
  {
   "cell_type": "code",
   "execution_count": 35,
   "metadata": {},
   "outputs": [
    {
     "data": {
      "text/plain": [
       "6600    11.788845\n",
       "6650    11.734747\n",
       "6700    11.818182\n",
       "6750    11.764555\n",
       "6800    11.743841\n",
       "Name: Hospitalization_Rate, dtype: float64"
      ]
     },
     "execution_count": 35,
     "metadata": {},
     "output_type": "execute_result"
    }
   ],
   "source": [
    "forparams_ala['Hospitalization_Rate']"
   ]
  },
  {
   "cell_type": "code",
   "execution_count": 36,
   "metadata": {},
   "outputs": [
    {
     "data": {
      "text/html": [
       "<div>\n",
       "<style scoped>\n",
       "    .dataframe tbody tr th:only-of-type {\n",
       "        vertical-align: middle;\n",
       "    }\n",
       "\n",
       "    .dataframe tbody tr th {\n",
       "        vertical-align: top;\n",
       "    }\n",
       "\n",
       "    .dataframe thead th {\n",
       "        text-align: right;\n",
       "    }\n",
       "</style>\n",
       "<table border=\"1\" class=\"dataframe\">\n",
       "  <thead>\n",
       "    <tr style=\"text-align: right;\">\n",
       "      <th></th>\n",
       "      <th>ID</th>\n",
       "      <th>Province_State</th>\n",
       "      <th>Date</th>\n",
       "      <th>Confirmed</th>\n",
       "      <th>Deaths</th>\n",
       "      <th>Recovered</th>\n",
       "      <th>Active</th>\n",
       "      <th>Incident_Rate</th>\n",
       "      <th>People_Tested</th>\n",
       "      <th>People_Hospitalized</th>\n",
       "      <th>Mortality_Rate</th>\n",
       "      <th>Testing_Rate</th>\n",
       "      <th>Hospitalization_Rate</th>\n",
       "    </tr>\n",
       "  </thead>\n",
       "  <tbody>\n",
       "    <tr>\n",
       "      <th>6850</th>\n",
       "      <td>6850</td>\n",
       "      <td>Alabama</td>\n",
       "      <td>08-27-2020</td>\n",
       "      <td>121023</td>\n",
       "      <td>2076</td>\n",
       "      <td>48028.0</td>\n",
       "      <td>70919.0</td>\n",
       "      <td>2468.252779</td>\n",
       "      <td>956809.0</td>\n",
       "      <td>14005.0</td>\n",
       "      <td>1.715376</td>\n",
       "      <td>19514.030166</td>\n",
       "      <td>11.57218</td>\n",
       "    </tr>\n",
       "    <tr>\n",
       "      <th>6900</th>\n",
       "      <td>6900</td>\n",
       "      <td>Alabama</td>\n",
       "      <td>08-28-2020</td>\n",
       "      <td>122185</td>\n",
       "      <td>2107</td>\n",
       "      <td>48028.0</td>\n",
       "      <td>72050.0</td>\n",
       "      <td>2491.951660</td>\n",
       "      <td>964863.0</td>\n",
       "      <td>NaN</td>\n",
       "      <td>1.724434</td>\n",
       "      <td>19678.290744</td>\n",
       "      <td>NaN</td>\n",
       "    </tr>\n",
       "    <tr>\n",
       "      <th>6950</th>\n",
       "      <td>6950</td>\n",
       "      <td>Alabama</td>\n",
       "      <td>08-29-2020</td>\n",
       "      <td>123889</td>\n",
       "      <td>2152</td>\n",
       "      <td>48028.0</td>\n",
       "      <td>73709.0</td>\n",
       "      <td>2526.704581</td>\n",
       "      <td>975818.0</td>\n",
       "      <td>NaN</td>\n",
       "      <td>1.737039</td>\n",
       "      <td>19901.716945</td>\n",
       "      <td>NaN</td>\n",
       "    </tr>\n",
       "    <tr>\n",
       "      <th>7000</th>\n",
       "      <td>7000</td>\n",
       "      <td>Alabama</td>\n",
       "      <td>08-30-2020</td>\n",
       "      <td>125235</td>\n",
       "      <td>2162</td>\n",
       "      <td>48028.0</td>\n",
       "      <td>75045.0</td>\n",
       "      <td>2554.156125</td>\n",
       "      <td>981062.0</td>\n",
       "      <td>NaN</td>\n",
       "      <td>1.726354</td>\n",
       "      <td>20008.667835</td>\n",
       "      <td>NaN</td>\n",
       "    </tr>\n",
       "    <tr>\n",
       "      <th>7050</th>\n",
       "      <td>7050</td>\n",
       "      <td>Alabama</td>\n",
       "      <td>08-31-2020</td>\n",
       "      <td>126058</td>\n",
       "      <td>2182</td>\n",
       "      <td>48028.0</td>\n",
       "      <td>75848.0</td>\n",
       "      <td>2570.941133</td>\n",
       "      <td>985287.0</td>\n",
       "      <td>NaN</td>\n",
       "      <td>1.730949</td>\n",
       "      <td>20094.836316</td>\n",
       "      <td>NaN</td>\n",
       "    </tr>\n",
       "  </tbody>\n",
       "</table>\n",
       "</div>"
      ],
      "text/plain": [
       "        ID Province_State        Date  Confirmed  Deaths  Recovered   Active  \\\n",
       "6850  6850        Alabama  08-27-2020     121023    2076    48028.0  70919.0   \n",
       "6900  6900        Alabama  08-28-2020     122185    2107    48028.0  72050.0   \n",
       "6950  6950        Alabama  08-29-2020     123889    2152    48028.0  73709.0   \n",
       "7000  7000        Alabama  08-30-2020     125235    2162    48028.0  75045.0   \n",
       "7050  7050        Alabama  08-31-2020     126058    2182    48028.0  75848.0   \n",
       "\n",
       "      Incident_Rate  People_Tested  People_Hospitalized  Mortality_Rate  \\\n",
       "6850    2468.252779       956809.0              14005.0        1.715376   \n",
       "6900    2491.951660       964863.0                  NaN        1.724434   \n",
       "6950    2526.704581       975818.0                  NaN        1.737039   \n",
       "7000    2554.156125       981062.0                  NaN        1.726354   \n",
       "7050    2570.941133       985287.0                  NaN        1.730949   \n",
       "\n",
       "      Testing_Rate  Hospitalization_Rate  \n",
       "6850  19514.030166              11.57218  \n",
       "6900  19678.290744                   NaN  \n",
       "6950  19901.716945                   NaN  \n",
       "7000  20008.667835                   NaN  \n",
       "7050  20094.836316                   NaN  "
      ]
     },
     "execution_count": 36,
     "metadata": {},
     "output_type": "execute_result"
    }
   ],
   "source": [
    "validation_ala"
   ]
  },
  {
   "cell_type": "code",
   "execution_count": 46,
   "metadata": {},
   "outputs": [
    {
     "data": {
      "text/plain": [
       "[119254.0,\n",
       " 120452.31292788632,\n",
       " 121664.94457560887,\n",
       " 122892.06379716449,\n",
       " 124133.83184371446]"
      ]
     },
     "execution_count": 46,
     "metadata": {},
     "output_type": "execute_result"
    }
   ],
   "source": [
    "y = [sum(x) for x in zip(I.tolist(), R.tolist())]\n",
    "y = [sum(x) for x in zip(y, D.tolist())]\n",
    "y"
   ]
  },
  {
   "cell_type": "code",
   "execution_count": null,
   "metadata": {},
   "outputs": [],
   "source": [
    "D.tolist()"
   ]
  },
  {
   "cell_type": "code",
   "execution_count": null,
   "metadata": {},
   "outputs": [],
   "source": []
  }
 ],
 "metadata": {
  "kernelspec": {
   "display_name": "Python 3",
   "language": "python",
   "name": "python3"
  },
  "language_info": {
   "codemirror_mode": {
    "name": "ipython",
    "version": 3
   },
   "file_extension": ".py",
   "mimetype": "text/x-python",
   "name": "python",
   "nbconvert_exporter": "python",
   "pygments_lexer": "ipython3",
   "version": "3.6.4"
  }
 },
 "nbformat": 4,
 "nbformat_minor": 2
}
