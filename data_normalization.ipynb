{
 "cells": [
  {
   "cell_type": "code",
   "execution_count": 2,
   "metadata": {},
   "outputs": [],
   "source": [
    "# Packages\n",
    "import numpy as np\n",
    "import sklearn \n",
    "import pandas as pd\n",
    "import matplotlib.pyplot as plt\n",
    "import scipy\n",
    "from scipy.integrate import odeint\n",
    "import math\n",
    "\n",
    "from utility_code.utility import utils"
   ]
  },
  {
   "cell_type": "code",
   "execution_count": 42,
   "metadata": {},
   "outputs": [],
   "source": [
    "#import csvs\n",
    "train = pd.read_csv(\"ucla2020-cs145-covid19-prediction/train.csv\")\n",
    "test = pd.read_csv(\"ucla2020-cs145-covid19-prediction/test.csv\")\n",
    "graph = pd.read_csv(\"ucla2020-cs145-covid19-prediction/graph.csv\")\n",
    "dummydata = pd.read_csv(\"data-test/raw_data_test.csv\", skiprows=2, thousands=',')"
   ]
  },
  {
   "cell_type": "code",
   "execution_count": 67,
   "metadata": {},
   "outputs": [],
   "source": [
    "train['Population'] = train['Confirmed'].divide(train['Incident_Rate'])*1e5\n",
    "train['Active/Population'] = train['Active'].divide(train['Population'])\n",
    "train['Deaths/Population'] = train['Deaths'].divide(train['Population'])\n",
    "train['Active/People_Tested*Population'] = train['Active']/train['People_Tested']*train['Population']\n",
    "train['Recovered/Population'] = train['Recovered']/train['Population']\n",
    "\n",
    "\n",
    "confirmed = train['Confirmed'].to_list()\n",
    "daily = [confirmed[i]-confirmed[i-50] for i in range(len(confirmed)) if i-50 >= 0]\n",
    "for i in range(50):\n",
    "    daily.insert(0,0)\n",
    "\n",
    "train['New_Cases'] = daily\n",
    "\n",
    "tests = train['People_Tested'].to_list()\n",
    "dailyTests = [tests[i]-tests[i-50] for i in range(len(tests)) if i-50 >= 0]\n",
    "for i in range(50):\n",
    "    dailyTests.insert(0,0)\n",
    "\n",
    "train['New_Tests'] = dailyTests\n",
    "\n",
    "train['New_Cases/New_Tests'] = train['New_Cases']/train['New_Tests']\n",
    "\n",
    "# population = {}\n",
    "# for state in states:\n",
    "#     population[state] = (statesdata[state]['Confirmed'].iloc[0]/ statesdata[state]['Incident_Rate'].iloc[0])*1e5\n"
   ]
  },
  {
   "cell_type": "code",
   "execution_count": null,
   "metadata": {},
   "outputs": [],
   "source": [
    "statesdata = {}\n",
    "states = pd.Series.unique(train['Province_State'])\n",
    "num_states = len(states)\n",
    "for s in states:\n",
    "    statesdata[s] = train.loc[train['Province_State'] == s ,:]"
   ]
  },
  {
   "cell_type": "code",
   "execution_count": null,
   "metadata": {},
   "outputs": [],
   "source": []
  },
  {
   "cell_type": "code",
   "execution_count": null,
   "metadata": {},
   "outputs": [],
   "source": []
  }
 ],
 "metadata": {
  "kernelspec": {
   "display_name": "Python 3",
   "language": "python",
   "name": "python3"
  },
  "language_info": {
   "codemirror_mode": {
    "name": "ipython",
    "version": 3
   },
   "file_extension": ".py",
   "mimetype": "text/x-python",
   "name": "python",
   "nbconvert_exporter": "python",
   "pygments_lexer": "ipython3",
   "version": "3.8.3"
  }
 },
 "nbformat": 4,
 "nbformat_minor": 4
}
