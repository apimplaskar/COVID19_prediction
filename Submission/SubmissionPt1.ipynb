{
 "cells": [
  {
   "cell_type": "code",
   "execution_count": null,
   "metadata": {},
   "outputs": [],
   "source": [
    "# Packages\n",
    "import numpy as np\n",
    "import pandas as pd\n",
    "\n",
    "#import csvs\n",
    "train = pd.read_csv(\"train.csv\")\n",
    "test = pd.read_csv(\"test.csv\")\n",
    "graph = pd.read_csv(\"graph.csv\")\n",
    "\n",
    "# generate dictionary of data on confirmed cases and deaths for each state\n",
    "# enables us to do state by state inference\n",
    "statesdata = {}\n",
    "states = pd.Series.unique(train['Province_State'])\n",
    "num_states = len(states)\n",
    "for s in states:\n",
    "    statesdata[s] = train.loc[train['Province_State'] == s ,:]"
   ]
  },
  {
   "cell_type": "code",
   "execution_count": null,
   "metadata": {
    "scrolled": true
   },
   "outputs": [],
   "source": [
    "days = 26 # our goal is to predict 26 days\n",
    "\n",
    "def predictARIMA(X, p, d, q, days):\n",
    "    model = ARIMA(X, order=(p,d,q)) # initialize ARIMA model with order params\n",
    "    model_fit = model.fit() # fit model to time series\n",
    "    start = len(X) # starts with first day \n",
    "    forecast = model_fit.predict(start = start, end = start + days) # predict 26 days\n",
    "    return(forecast) # return forecast as list\n",
    "\n",
    "# def predictARIMA_Validation(X, days, C = True):\n",
    "#     if C == True:\n",
    "#         arima = arima = pm.auto_arima(X, error_action='ignore', trace=True, max_p=3, max_d=2, max_q=2,\n",
    "#                                       suppress_warnings=True, maxiter=25, stepwise=False,\n",
    "#                                       seasonal= False, out_of_sample_size=10)\n",
    "#     else:\n",
    "#         arima = arima = pm.auto_arima(X, error_action='ignore', trace=True, max_p=9, max_d=2, max_q=7, start_p=5, start_q=4,\n",
    "#                                       suppress_warnings=True, maxiter=25, stepwise=False,\n",
    "#                                       seasonal= False, out_of_sample_size=10)\n",
    "#     forecast = arima.predict(n_periods = days)\n",
    "#     return(forecast)\n",
    "\n",
    "def difference(dataset, interval = 1):\n",
    "    diff = list()\n",
    "    for i in range(interval, len(dataset)):\n",
    "        value = dataset[i]-dataset[i-interval]\n",
    "        diff.append(value)\n",
    "    return np.array(diff)\n",
    "\n",
    "# invert differenced value\n",
    "def inverse_difference(history, yhat, interval=1):\n",
    "    #yhat = np.exp(yhat)\n",
    "    return yhat + history[-1]\n",
    "\n",
    "from statsmodels.tsa.arima.model import ARIMA\n",
    "\n",
    "proj = {} # dictionary of data frames with projections for each state (key = state, value = df)\n",
    "cp, cd, cq = 2,2,1\n",
    "dp, dd, dq = 4,2,3\n",
    "for s in states:\n",
    "    \n",
    "    a = statesdata[s]\n",
    "    a = a.reset_index()\n",
    "    confirmed = a['Confirmed']\n",
    "    deaths = a['Deaths']\n",
    "    \n",
    "    #run ARIMA on confirmed\n",
    "    X = confirmed.values\n",
    "    forecastC = predictARIMA(X, cp,cd,cq, days)\n",
    "    \n",
    "    #run ARIMA on deaths\n",
    "    Y= deaths.values\n",
    "    forecastD = predictARIMA(Y, dp,dd,dq, days)\n",
    "    \n",
    "    df = {'Confirmed': forecastC, 'Deaths': forecastD}\n",
    "    proj[s] = pd.DataFrame(df)\n"
   ]
  },
  {
   "cell_type": "code",
   "execution_count": null,
   "metadata": {},
   "outputs": [],
   "source": [
    "order = test.loc[0:49,'Province_State'] # get order of states in submission\n",
    "\n",
    "# format submission\n",
    "conf = [] # will be the confirmed column\n",
    "dead = [] # will be the deaths column\n",
    "fid = 0\n",
    "for i in range(0,days):\n",
    "    for j in order:\n",
    "        projection = proj[j].iloc[i]\n",
    "        conf.append(int(projection['Confirmed']))\n",
    "        dead.append(int(projection['Deaths']))\n",
    "        fid+=1 "
   ]
  },
  {
   "cell_type": "code",
   "execution_count": null,
   "metadata": {},
   "outputs": [],
   "source": [
    "# store the projections\n",
    "test['Confirmed'] = conf\n",
    "test['Deaths'] = dead"
   ]
  },
  {
   "cell_type": "code",
   "execution_count": null,
   "metadata": {},
   "outputs": [],
   "source": [
    "submission = test.drop(columns=['Province_State', 'Date'])\n",
    "submission"
   ]
  },
  {
   "cell_type": "code",
   "execution_count": null,
   "metadata": {},
   "outputs": [],
   "source": [
    "#submission.to_csv('Team31_1.csv', index = False, header = True)"
   ]
  },
  {
   "cell_type": "markdown",
   "metadata": {},
   "source": [
    "## Our best parameters:\n",
    "Upon performing validation on the training data, we found our best parameters to be-\n",
    "\n",
    "Confirmed cases: p = 2, d = 2, q = 1\n",
    "\n",
    "Deaths: p = 4, d = 2, q = 3"
   ]
  },
  {
   "cell_type": "code",
   "execution_count": null,
   "metadata": {},
   "outputs": [],
   "source": [
    "def MAPE(y_true, y_pred): \n",
    "    y_true, y_pred = np.array(y_true), np.array(y_pred)\n",
    "    return np.mean(np.abs((y_true - y_pred) / y_true))"
   ]
  }
 ],
 "metadata": {
  "kernelspec": {
   "display_name": "Python 3",
   "language": "python",
   "name": "python3"
  },
  "language_info": {
   "codemirror_mode": {
    "name": "ipython",
    "version": 3
   },
   "file_extension": ".py",
   "mimetype": "text/x-python",
   "name": "python",
   "nbconvert_exporter": "python",
   "pygments_lexer": "ipython3",
   "version": "3.6.4"
  }
 },
 "nbformat": 4,
 "nbformat_minor": 2
}
