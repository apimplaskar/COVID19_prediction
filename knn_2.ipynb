{
 "cells": [
  {
   "cell_type": "code",
   "execution_count": 19,
   "metadata": {},
   "outputs": [],
   "source": [
    "# Packages\n",
    "import numpy as np\n",
    "import sklearn \n",
    "import pandas as pd\n",
    "import matplotlib.pyplot as plt\n",
    "\n",
    "from utility_code.utility import utils"
   ]
  },
  {
   "cell_type": "code",
   "execution_count": 20,
   "metadata": {},
   "outputs": [],
   "source": [
    "#import csvs\n",
    "train_import = pd.read_csv(\"ucla2020-cs145-covid19-prediction/train.csv\")\n",
    "test_import = pd.read_csv(\"ucla2020-cs145-covid19-prediction/test.csv\")\n",
    "graph = pd.read_csv(\"ucla2020-cs145-covid19-prediction/graph.csv\")"
   ]
  },
  {
   "cell_type": "code",
   "execution_count": 21,
   "metadata": {},
   "outputs": [],
   "source": [
    "#only look at the features in features list\n",
    "features = ['Confirmed','Deaths', 'Incident_Rate', 'Mortality_Rate']\n",
    "num_features = len(features)"
   ]
  },
  {
   "cell_type": "code",
   "execution_count": 22,
   "metadata": {},
   "outputs": [],
   "source": [
    "#array of states\n",
    "states = pd.Series.unique(train_import['Province_State'])\n",
    "num_states = len(states)"
   ]
  },
  {
   "cell_type": "code",
   "execution_count": 23,
   "metadata": {},
   "outputs": [],
   "source": [
    "#split training into training and testing\n",
    "PERCENT_TRAIN = 80\n",
    "train , test = utils.split_dataframe(train_import,PERCENT_TRAIN,num_states)"
   ]
  },
  {
   "cell_type": "code",
   "execution_count": 24,
   "metadata": {},
   "outputs": [],
   "source": [
    "#stratify by state (into state dictionary)\n",
    "statesdata = {}\n",
    "for s in states:\n",
    "    statesdata[s] = train.loc[train['Province_State'] == s ,features]\n",
    "    \n",
    "#feature name -> column indices\n",
    "state_feature_indices = utils.get_column_indices(statesdata['California'],features)"
   ]
  },
  {
   "cell_type": "code",
   "execution_count": 25,
   "metadata": {},
   "outputs": [],
   "source": [
    "#set the WINDOW size\n",
    "WINDOW_SIZE = 3"
   ]
  },
  {
   "cell_type": "code",
   "execution_count": 26,
   "metadata": {},
   "outputs": [],
   "source": [
    "#append the feature spaces from the W days prior (where W is the window length)\n",
    "new_features = []\n",
    "for day in range(WINDOW_SIZE):\n",
    "    for f in features:\n",
    "        new_features.append(f + \"(-\"+ str(WINDOW_SIZE-day) + \" days)\")\n",
    "all_new_features = new_features + features"
   ]
  },
  {
   "cell_type": "code",
   "execution_count": 27,
   "metadata": {},
   "outputs": [],
   "source": [
    "from itertools import chain\n",
    "\n",
    "#fill the knn data using days from training set\n",
    "knndata = pd.DataFrame(columns = all_new_features)\n",
    "num_training_days = len(statesdata['California'])\n",
    "\n",
    "#fill the table\n",
    "for d in range(WINDOW_SIZE,num_training_days):\n",
    "    for s in states:\n",
    "        knndata_row_index = knndata.shape[0]\n",
    "        knn_row = utils.flatten_dataframe(statesdata[s],slice(d-WINDOW_SIZE,d+1), state_feature_indices)\n",
    "        utils.dataframe_append_row(knndata,knn_row,s,d)     "
   ]
  },
  {
   "cell_type": "code",
   "execution_count": 28,
   "metadata": {},
   "outputs": [],
   "source": [
    "#number of nearest neighbors\n",
    "K_NEIGHBORS = 2\n",
    "\n",
    "#number of days to predict in the future (for now let's predict for entirety of test labels)\n",
    "NUM_DAYS_INTO_FUTURE = int(test.shape[0] / num_states)"
   ]
  },
  {
   "cell_type": "code",
   "execution_count": 29,
   "metadata": {},
   "outputs": [],
   "source": [
    "from sklearn.neighbors import NearestNeighbors\n",
    "knn = NearestNeighbors(n_neighbors = K_NEIGHBORS)\n",
    "\n",
    "#get rid of previously predicted rows\n",
    "knndata = knndata.iloc[:(num_training_days - WINDOW_SIZE)*num_states,:]\n",
    "\n",
    "#feature name -> column indices\n",
    "knn_feature_indices = utils.get_column_indices(knndata,features)\n",
    "\n",
    "#build table for next NUM_DAYS_INTO_FUTURE entries\n",
    "for d in range(num_training_days,num_training_days + NUM_DAYS_INTO_FUTURE):\n",
    "    \n",
    "    #refit the model after every day\n",
    "    knn.fit(knndata.iloc[:,:-1 * num_features])\n",
    "    \n",
    "    for s in states:\n",
    "        #get rows for past WINDOW_SIZE days\n",
    "        row_indicies = slice(knndata.shape[0] - num_states * WINDOW_SIZE, knndata.shape[0], num_states)\n",
    "        knn_row_features = utils.flatten_dataframe(knndata,row_indicies,slice(-1 * num_features,None,None))\n",
    "        #find nearest neighbors based on these features\n",
    "        knn_ret = knn.kneighbors([knn_row_features])[1][0]\n",
    "        knn_ret_df = knndata.iloc[knn_ret,-1 * num_features:]\n",
    "        #interpolate btwn the labels in the df\n",
    "        for f in features:\n",
    "            knn_row_features += [int(knn_ret_df[f].mean())]\n",
    "        utils.dataframe_append_row(knndata,knn_row_features,s,d)     "
   ]
  },
  {
   "cell_type": "code",
   "execution_count": 30,
   "metadata": {
    "scrolled": true
   },
   "outputs": [],
   "source": [
    "#analyze labels vs predictions\n",
    "pd.set_option(\"display.max_rows\", None, \"display.max_columns\", None)\n",
    "knn_predictions = knndata.iloc[(num_training_days - WINDOW_SIZE)*num_states:,-1 * num_features:]\n",
    "knn_labels = utils.dataframe_copy_rows_and_filter_columns(test,knn_predictions)\n",
    "knn_errors = knn_predictions.subtract(knn_labels)"
   ]
  },
  {
   "cell_type": "code",
   "execution_count": 31,
   "metadata": {},
   "outputs": [
    {
     "name": "stdout",
     "output_type": "stream",
     "text": [
      "average errors:  Confirmed         0.122174\n",
      "Deaths            0.328855\n",
      "Incident_Rate     0.243944\n",
      "Mortality_Rate    0.336071\n",
      "dtype: float64\n"
     ]
    }
   ],
   "source": [
    "print('average errors: ', knn_errors.divide(knn_labels).abs().mean(axis = 0))"
   ]
  },
  {
   "cell_type": "code",
   "execution_count": null,
   "metadata": {},
   "outputs": [],
   "source": []
  }
 ],
 "metadata": {
  "kernelspec": {
   "display_name": "Python 3",
   "language": "python",
   "name": "python3"
  },
  "language_info": {
   "codemirror_mode": {
    "name": "ipython",
    "version": 3
   },
   "file_extension": ".py",
   "mimetype": "text/x-python",
   "name": "python",
   "nbconvert_exporter": "python",
   "pygments_lexer": "ipython3",
   "version": "3.6.4"
  }
 },
 "nbformat": 4,
 "nbformat_minor": 2
}
