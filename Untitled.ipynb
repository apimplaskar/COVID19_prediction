{
 "cells": [
  {
<<<<<<< HEAD
   "cell_type": "code",
   "execution_count": 2,
   "metadata": {},
   "outputs": [],
   "source": [
    "# Packages\n",
    "import numpy as np\n",
    "import sklearn \n",
    "import pandas as pd\n",
    "import matplotlib.pyplot as plt\n",
    "import scipy\n",
    "from scipy.integrate import odeint\n",
    "import math\n",
    "\n",
    "from utility_code.utility import utils"
   ]
  },
  {
   "cell_type": "code",
   "execution_count": 3,
   "metadata": {},
   "outputs": [],
   "source": [
    "#import csvs\n",
    "train = pd.read_csv(\"ucla2020-cs145-covid19-prediction/train.csv\")\n",
    "test = pd.read_csv(\"ucla2020-cs145-covid19-prediction/test.csv\")\n",
    "graph = pd.read_csv(\"ucla2020-cs145-covid19-prediction/graph.csv\")\n",
    "dummydata = pd.read_csv(\"data-test/raw_data_test.csv\", skiprows=2, thousands=',')"
   ]
  },
  {
   "cell_type": "code",
   "execution_count": 4,
   "metadata": {},
   "outputs": [],
   "source": [
    "statesdata = {}\n",
    "states = pd.Series.unique(train['Province_State'])\n",
    "num_states = len(states)\n",
    "for s in states:\n",
    "    statesdata[s] = train.loc[train['Province_State'] == s ,:]"
   ]
  },
  {
   "cell_type": "code",
   "execution_count": 5,
   "metadata": {},
   "outputs": [
    {
     "name": "stdout",
     "output_type": "stream",
     "text": [
      "        ID Province_State        Date  Confirmed  Deaths  Recovered    Active  \\\n",
      "4        4     California  04-12-2020      22795     640        NaN   22155.0   \n",
      "54      54     California  04-13-2020      23931     714        NaN   23217.0   \n",
      "104    104     California  04-14-2020      25356     767        NaN   24589.0   \n",
      "154    154     California  04-15-2020      26686     860        NaN   25826.0   \n",
      "204    204     California  04-16-2020      27677     956        NaN   26721.0   \n",
      "...    ...            ...         ...        ...     ...        ...       ...   \n",
      "6854  6854     California  08-27-2020     691821   12677        NaN  679144.0   \n",
      "6904  6904     California  08-28-2020     697385   12805        NaN  684580.0   \n",
      "6954  6954     California  08-29-2020     702038   12894        NaN  689144.0   \n",
      "7004  7004     California  08-30-2020     705951   12937        NaN  693014.0   \n",
      "7054  7054     California  08-31-2020     712475   13022        NaN  699453.0   \n",
      "\n",
      "      Incident_Rate  People_Tested  People_Hospitalized  Mortality_Rate  \\\n",
      "4         58.137726       190328.0               5234.0        2.812020   \n",
      "54        61.035048       190882.0               3015.0        2.987756   \n",
      "104       64.669453       202208.0               5163.0        3.028869   \n",
      "154       68.061564       216486.0               5163.0        3.226411   \n",
      "204       70.589069       246400.0               5031.0        3.457745   \n",
      "...             ...            ...                  ...             ...   \n",
      "6854    1750.903765     10918415.0                  NaN        1.832410   \n",
      "6904    1764.985483     11010637.0                  NaN        1.836145   \n",
      "6954    1776.761586     11109630.0                  NaN        1.836653   \n",
      "7004    1786.664851     11231829.0                  NaN        1.832563   \n",
      "7054    1803.176197     11373305.0                  NaN        1.827713   \n",
      "\n",
      "      Testing_Rate  Hospitalization_Rate  \n",
      "4       485.423869             22.961176  \n",
      "54      486.836823             12.598721  \n",
      "104     515.723328             20.362044  \n",
      "154     552.138790             19.347223  \n",
      "204     628.433237             18.177548  \n",
      "...            ...                   ...  \n",
      "6854  27633.006121                   NaN  \n",
      "6904  27866.407314                   NaN  \n",
      "6954  28116.944977                   NaN  \n",
      "7004  28426.213833                   NaN  \n",
      "7054  28784.270123                   NaN  \n",
      "\n",
      "[142 rows x 13 columns]\n"
     ]
    }
   ],
   "source": [
    "print(statesdata['California'])"
   ]
=======
   "cell_type": "markdown",
   "metadata": {},
   "source": []
>>>>>>> 3cf06b86b8559fe77800117b691e9b3caa422139
  },
  {
   "cell_type": "code",
   "execution_count": null,
   "metadata": {},
   "outputs": [],
   "source": []
  }
 ],
 "metadata": {
  "kernelspec": {
   "display_name": "Python 3",
   "language": "python",
   "name": "python3"
  },
  "language_info": {
   "codemirror_mode": {
    "name": "ipython",
    "version": 3
   },
   "file_extension": ".py",
   "mimetype": "text/x-python",
   "name": "python",
   "nbconvert_exporter": "python",
   "pygments_lexer": "ipython3",
<<<<<<< HEAD
   "version": "3.8.3"
=======
   "version": "3.7.6"
>>>>>>> 3cf06b86b8559fe77800117b691e9b3caa422139
  }
 },
 "nbformat": 4,
 "nbformat_minor": 4
}
